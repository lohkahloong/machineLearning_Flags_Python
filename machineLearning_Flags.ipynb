{
 "cells": [
  {
   "cell_type": "markdown",
   "metadata": {},
   "source": [
    "## Flags Machine Learning \n",
    "Machine Learning with Flags data set. \n",
    "\n",
    "+ Raul Eulogio\n",
    "+ David A. Campos\n",
    "+ Vincent La\n",
    "\n",
    "## Abstract\n",
    "For this quick project, I wanted to implement a few **Machine Learning** techniques on a data set containing descriptive attributes of certain countries' flags. We have a total of 129 flags from real countries throughout the globe and 28 different attributes. \n",
    "\n",
    "Many of these attributes are **Categorical**, meaning they can only hold certain values. An example is the color of a bicycle, say we had a data set with 5 instances of bicycles, for each record we decided to collect the color of these bicycles. We record these instances as {`red`, `blue`, `green`, `mixed`, `purple`}. Variables that are categorical we identify as having an identifiable set of attributes. Often times in machine learning certain methods perform better when using categorical variables.\n",
    "\n",
    "Thus for this project I decided to use 4 statistical models which I thought would do significantly better than others. The ones I have chosen are listed here (although I will go into more detail about each model in later sections):\n",
    "\n",
    "+ Kth Nearest Neighbor\n",
    "+ Decision Trees\n",
    "+ (Bagging) Random Forest\n",
    "+ Neural Networks\n",
    "\n",
    "I employ critical data analysis modules in this project more specifically \n",
    "\n",
    "+ pandas\n",
    "+ scikit learn \n",
    "+ matplotlib (for visuals)\n",
    "\n",
    "## 1. Load Modules\n",
    "We load our modules into our python environment. In my case I am employing a **Jupyter Notebook** while running inside an **Anaconda** environment. \n",
    "\n",
    "For now to illustrate and show the module versions in a simple way I will name the ones I used and show the version I used as follows:\n",
    "\n",
    "+ numpy==1.11.2\n",
    "+ pandas==0.18.1\n",
    "+ matplotlib==1.5.3\n",
    "+ sklearn==0.18.1\n",
    "+ seaborn==0.7.1"
   ]
  },
  {
   "cell_type": "code",
   "execution_count": 1,
   "metadata": {
    "collapsed": false
   },
   "outputs": [],
   "source": [
    "import numpy as np\n",
    "import pandas as pd\n",
    "import matplotlib.pyplot as plt # Visuals \n",
    "import seaborn as sns # Enhanced Visuals\n",
    "from sklearn.model_selection import train_test_split\n",
    "from sklearn.feature_extraction import DictVectorizer # Transform categorical variables\n",
    "from sklearn.neighbors import KNeighborsClassifier # Kth Nearest Neighbor\n",
    "from sklearn.tree import DecisionTreeClassifier\n",
    "from sklearn.tree import export_graphviz\n",
    "from sklearn.ensemble import BaggingClassifier # Bagging Forest\n",
    "from sklearn.neural_network import MLPClassifier # Neural Networks\n",
    "from urllib.request import urlopen\n",
    "\n",
    "pd.set_option('display.max_columns', 500) # Included to show all the columns since it is a fairly large data set\n",
    "plt.style.use('ggplot') # Using ggplot2 style visuals because that's how I learned my visuals and I'm sticking to it!"
   ]
  },
  {
   "cell_type": "markdown",
   "metadata": {},
   "source": [
    "## 2. Get Data\n",
    "Data set from `UCI Database`. I decided to use this data set because it was a real world application of machine learning. Looking through the data set you can see certain attributes like colors present, number of stripes, presence of crosses. \n",
    "\n",
    "Our goal is to try to find the best method which will predict what **religion** the country based on certain physical characteristics. Before going into the analysis, you can make certain assumptions for example the presence of **Crosses** on the flag would be a strong indicator of religious presence in the country. \n",
    "\n",
    "Our goal is to make these assumption with strong statistical evidence to back our claims and see what attributes helped us the most. I could be wrong and it could be that **Crosses** was found **not** to be statistically significant. Thus with machine learning, and statistical learning (data science, data mining, classification etc) we are trying to find statistical patterns that would lead us to predict to help our understanding of the data around us. "
   ]
  },
  {
   "cell_type": "code",
   "execution_count": 2,
   "metadata": {
    "collapsed": false
   },
   "outputs": [
    {
     "data": {
      "text/html": [
       "<div>\n",
       "<table border=\"1\" class=\"dataframe\">\n",
       "  <thead>\n",
       "    <tr style=\"text-align: right;\">\n",
       "      <th></th>\n",
       "      <th>landmass</th>\n",
       "      <th>zone</th>\n",
       "      <th>area</th>\n",
       "      <th>population</th>\n",
       "      <th>language</th>\n",
       "      <th>religion</th>\n",
       "      <th>bars</th>\n",
       "      <th>stripes</th>\n",
       "      <th>colours</th>\n",
       "      <th>red</th>\n",
       "      <th>green</th>\n",
       "      <th>blue</th>\n",
       "      <th>gold</th>\n",
       "      <th>white</th>\n",
       "      <th>black</th>\n",
       "      <th>orange</th>\n",
       "      <th>mainhue</th>\n",
       "      <th>circles</th>\n",
       "      <th>crosses</th>\n",
       "      <th>saltires</th>\n",
       "      <th>quarters</th>\n",
       "      <th>sunstars</th>\n",
       "      <th>crescent</th>\n",
       "      <th>triangle</th>\n",
       "      <th>icon</th>\n",
       "      <th>animate</th>\n",
       "      <th>text</th>\n",
       "      <th>topleft</th>\n",
       "      <th>botright</th>\n",
       "    </tr>\n",
       "    <tr>\n",
       "      <th>name</th>\n",
       "      <th></th>\n",
       "      <th></th>\n",
       "      <th></th>\n",
       "      <th></th>\n",
       "      <th></th>\n",
       "      <th></th>\n",
       "      <th></th>\n",
       "      <th></th>\n",
       "      <th></th>\n",
       "      <th></th>\n",
       "      <th></th>\n",
       "      <th></th>\n",
       "      <th></th>\n",
       "      <th></th>\n",
       "      <th></th>\n",
       "      <th></th>\n",
       "      <th></th>\n",
       "      <th></th>\n",
       "      <th></th>\n",
       "      <th></th>\n",
       "      <th></th>\n",
       "      <th></th>\n",
       "      <th></th>\n",
       "      <th></th>\n",
       "      <th></th>\n",
       "      <th></th>\n",
       "      <th></th>\n",
       "      <th></th>\n",
       "      <th></th>\n",
       "    </tr>\n",
       "  </thead>\n",
       "  <tbody>\n",
       "    <tr>\n",
       "      <th>Afghanistan</th>\n",
       "      <td>5</td>\n",
       "      <td>1</td>\n",
       "      <td>648</td>\n",
       "      <td>16</td>\n",
       "      <td>10</td>\n",
       "      <td>2</td>\n",
       "      <td>0</td>\n",
       "      <td>3</td>\n",
       "      <td>5</td>\n",
       "      <td>1</td>\n",
       "      <td>1</td>\n",
       "      <td>0</td>\n",
       "      <td>1</td>\n",
       "      <td>1</td>\n",
       "      <td>1</td>\n",
       "      <td>0</td>\n",
       "      <td>green</td>\n",
       "      <td>0</td>\n",
       "      <td>0</td>\n",
       "      <td>0</td>\n",
       "      <td>0</td>\n",
       "      <td>1</td>\n",
       "      <td>0</td>\n",
       "      <td>0</td>\n",
       "      <td>1</td>\n",
       "      <td>0</td>\n",
       "      <td>0</td>\n",
       "      <td>black</td>\n",
       "      <td>green</td>\n",
       "    </tr>\n",
       "    <tr>\n",
       "      <th>Albania</th>\n",
       "      <td>3</td>\n",
       "      <td>1</td>\n",
       "      <td>29</td>\n",
       "      <td>3</td>\n",
       "      <td>6</td>\n",
       "      <td>6</td>\n",
       "      <td>0</td>\n",
       "      <td>0</td>\n",
       "      <td>3</td>\n",
       "      <td>1</td>\n",
       "      <td>0</td>\n",
       "      <td>0</td>\n",
       "      <td>1</td>\n",
       "      <td>0</td>\n",
       "      <td>1</td>\n",
       "      <td>0</td>\n",
       "      <td>red</td>\n",
       "      <td>0</td>\n",
       "      <td>0</td>\n",
       "      <td>0</td>\n",
       "      <td>0</td>\n",
       "      <td>1</td>\n",
       "      <td>0</td>\n",
       "      <td>0</td>\n",
       "      <td>0</td>\n",
       "      <td>1</td>\n",
       "      <td>0</td>\n",
       "      <td>red</td>\n",
       "      <td>red</td>\n",
       "    </tr>\n",
       "    <tr>\n",
       "      <th>Algeria</th>\n",
       "      <td>4</td>\n",
       "      <td>1</td>\n",
       "      <td>2388</td>\n",
       "      <td>20</td>\n",
       "      <td>8</td>\n",
       "      <td>2</td>\n",
       "      <td>2</td>\n",
       "      <td>0</td>\n",
       "      <td>3</td>\n",
       "      <td>1</td>\n",
       "      <td>1</td>\n",
       "      <td>0</td>\n",
       "      <td>0</td>\n",
       "      <td>1</td>\n",
       "      <td>0</td>\n",
       "      <td>0</td>\n",
       "      <td>green</td>\n",
       "      <td>0</td>\n",
       "      <td>0</td>\n",
       "      <td>0</td>\n",
       "      <td>0</td>\n",
       "      <td>1</td>\n",
       "      <td>1</td>\n",
       "      <td>0</td>\n",
       "      <td>0</td>\n",
       "      <td>0</td>\n",
       "      <td>0</td>\n",
       "      <td>green</td>\n",
       "      <td>white</td>\n",
       "    </tr>\n",
       "    <tr>\n",
       "      <th>American-Samoa</th>\n",
       "      <td>6</td>\n",
       "      <td>3</td>\n",
       "      <td>0</td>\n",
       "      <td>0</td>\n",
       "      <td>1</td>\n",
       "      <td>1</td>\n",
       "      <td>0</td>\n",
       "      <td>0</td>\n",
       "      <td>5</td>\n",
       "      <td>1</td>\n",
       "      <td>0</td>\n",
       "      <td>1</td>\n",
       "      <td>1</td>\n",
       "      <td>1</td>\n",
       "      <td>0</td>\n",
       "      <td>1</td>\n",
       "      <td>blue</td>\n",
       "      <td>0</td>\n",
       "      <td>0</td>\n",
       "      <td>0</td>\n",
       "      <td>0</td>\n",
       "      <td>0</td>\n",
       "      <td>0</td>\n",
       "      <td>1</td>\n",
       "      <td>1</td>\n",
       "      <td>1</td>\n",
       "      <td>0</td>\n",
       "      <td>blue</td>\n",
       "      <td>red</td>\n",
       "    </tr>\n",
       "    <tr>\n",
       "      <th>Andorra</th>\n",
       "      <td>3</td>\n",
       "      <td>1</td>\n",
       "      <td>0</td>\n",
       "      <td>0</td>\n",
       "      <td>6</td>\n",
       "      <td>0</td>\n",
       "      <td>3</td>\n",
       "      <td>0</td>\n",
       "      <td>3</td>\n",
       "      <td>1</td>\n",
       "      <td>0</td>\n",
       "      <td>1</td>\n",
       "      <td>1</td>\n",
       "      <td>0</td>\n",
       "      <td>0</td>\n",
       "      <td>0</td>\n",
       "      <td>gold</td>\n",
       "      <td>0</td>\n",
       "      <td>0</td>\n",
       "      <td>0</td>\n",
       "      <td>0</td>\n",
       "      <td>0</td>\n",
       "      <td>0</td>\n",
       "      <td>0</td>\n",
       "      <td>0</td>\n",
       "      <td>0</td>\n",
       "      <td>0</td>\n",
       "      <td>blue</td>\n",
       "      <td>red</td>\n",
       "    </tr>\n",
       "  </tbody>\n",
       "</table>\n",
       "</div>"
      ],
      "text/plain": [
       "                landmass  zone  area  population  language  religion  bars  \\\n",
       "name                                                                         \n",
       "Afghanistan            5     1   648          16        10         2     0   \n",
       "Albania                3     1    29           3         6         6     0   \n",
       "Algeria                4     1  2388          20         8         2     2   \n",
       "American-Samoa         6     3     0           0         1         1     0   \n",
       "Andorra                3     1     0           0         6         0     3   \n",
       "\n",
       "                stripes  colours  red  green  blue  gold  white  black  \\\n",
       "name                                                                     \n",
       "Afghanistan           3        5    1      1     0     1      1      1   \n",
       "Albania               0        3    1      0     0     1      0      1   \n",
       "Algeria               0        3    1      1     0     0      1      0   \n",
       "American-Samoa        0        5    1      0     1     1      1      0   \n",
       "Andorra               0        3    1      0     1     1      0      0   \n",
       "\n",
       "                orange mainhue  circles  crosses  saltires  quarters  \\\n",
       "name                                                                   \n",
       "Afghanistan          0   green        0        0         0         0   \n",
       "Albania              0     red        0        0         0         0   \n",
       "Algeria              0   green        0        0         0         0   \n",
       "American-Samoa       1    blue        0        0         0         0   \n",
       "Andorra              0    gold        0        0         0         0   \n",
       "\n",
       "                sunstars  crescent  triangle  icon  animate  text topleft  \\\n",
       "name                                                                        \n",
       "Afghanistan            1         0         0     1        0     0   black   \n",
       "Albania                1         0         0     0        1     0     red   \n",
       "Algeria                1         1         0     0        0     0   green   \n",
       "American-Samoa         0         0         1     1        1     0    blue   \n",
       "Andorra                0         0         0     0        0     0    blue   \n",
       "\n",
       "               botright  \n",
       "name                     \n",
       "Afghanistan       green  \n",
       "Albania             red  \n",
       "Algeria           white  \n",
       "American-Samoa      red  \n",
       "Andorra             red  "
      ]
     },
     "execution_count": 2,
     "metadata": {},
     "output_type": "execute_result"
    }
   ],
   "source": [
    "UCI_data_URL = 'https://archive.ics.uci.edu/ml/machine-learning-databases/flags/flag.data'\n",
    "\n",
    "names = ['name', 'landmass', 'zone', 'area', 'population', 'language', 'religion', 'bars', 'stripes', \n",
    "         'colours', 'red', 'green', 'blue', 'gold', 'white', 'black', 'orange', 'mainhue', \n",
    "         'circles', 'crosses', 'saltires', 'quarters', 'sunstars', 'crescent', 'triangle', \n",
    "         'icon', 'animate', 'text', 'topleft', 'botright']\n",
    "\n",
    "\n",
    "flags = pd.read_csv(urlopen(UCI_data_URL), names = names)\n",
    "flags.set_index(['name'], inplace = True)\n",
    "flags.head()"
   ]
  },
  {
   "cell_type": "code",
   "execution_count": 4,
   "metadata": {
    "collapsed": false
   },
   "outputs": [
    {
     "name": "stdout",
     "output_type": "stream",
     "text": [
      "Here's the dimensions of our data set:\n",
      "(194, 29)\n",
      "Here's the data types of our columns:\n",
      "landmass       int64\n",
      "zone           int64\n",
      "area           int64\n",
      "population     int64\n",
      "language       int64\n",
      "religion       int64\n",
      "bars           int64\n",
      "stripes        int64\n",
      "colours        int64\n",
      "red            int64\n",
      "green          int64\n",
      "blue           int64\n",
      "gold           int64\n",
      "white          int64\n",
      "black          int64\n",
      "orange         int64\n",
      "mainhue       object\n",
      "circles        int64\n",
      "crosses        int64\n",
      "saltires       int64\n",
      "quarters       int64\n",
      "sunstars       int64\n",
      "crescent       int64\n",
      "triangle       int64\n",
      "icon           int64\n",
      "animate        int64\n",
      "text           int64\n",
      "topleft       object\n",
      "botright      object\n",
      "dtype: object\n"
     ]
    }
   ],
   "source": [
    "print(\"Here's the dimensions of our data set:\")\n",
    "print(flags.shape)\n",
    "print(\"Here's the data types of our columns:\")\n",
    "print(flags.dtypes)"
   ]
  },
  {
   "cell_type": "markdown",
   "metadata": {},
   "source": [
    "### Converting Data Types\n",
    "Since we are dealing with a lot of `Categorical Variables` it is necessary to convert them as such, if we were to leave our data as is this would significantly change our models and interpretation of them. \n",
    "\n",
    "For this project I went ahead and converted many of these categorical variables to numerical representations. So using the same example as before: \n",
    "\n",
    "+ we would convert the set {`red`, `blue`, `green`, `mixed`, `purple`} to {0, 1, 2, 3, 4, 5}\n",
    "\n",
    "First we employ a `for-loop` to convert the appropriate columns to categorical variables, since upon inspection the data types are for the most part `int64` (integers) and `object`. We must explicitly state the types since pandas can't interpret the data type when reading in a file. "
   ]
  },
  {
   "cell_type": "code",
   "execution_count": 5,
   "metadata": {
    "collapsed": false
   },
   "outputs": [
    {
     "name": "stdout",
     "output_type": "stream",
     "text": [
      "Here are the newly transformed variable data types:\n",
      "landmass      category\n",
      "zone          category\n",
      "area             int64\n",
      "population       int64\n",
      "language      category\n",
      "religion      category\n",
      "bars             int64\n",
      "stripes          int64\n",
      "colours          int64\n",
      "red           category\n",
      "green         category\n",
      "blue          category\n",
      "gold          category\n",
      "white         category\n",
      "black         category\n",
      "orange        category\n",
      "mainhue       category\n",
      "circles          int64\n",
      "crosses          int64\n",
      "saltires         int64\n",
      "quarters         int64\n",
      "sunstars         int64\n",
      "crescent      category\n",
      "triangle      category\n",
      "icon          category\n",
      "animate       category\n",
      "text          category\n",
      "topleft       category\n",
      "botright      category\n",
      "dtype: object\n"
     ]
    }
   ],
   "source": [
    "someArray = ['landmass', 'zone', 'language', 'religion', 'red', 'green', 'blue', 'gold', 'white', 'black', 'orange',\n",
    "      'mainhue', 'crescent', 'triangle', 'icon', 'animate', 'text', 'topleft', 'botright']\n",
    "\n",
    "for items in flags:\n",
    "    if items in someArray:\n",
    "        flags[items] = flags[items].astype('category')   \n",
    "\n",
    "cat_columns = flags.select_dtypes(['category']).columns\n",
    "flags[cat_columns] = flags[cat_columns].apply(lambda x: x.cat.codes)\n",
    "\n",
    "for items in flags:\n",
    "    if items in someArray:\n",
    "        flags[items] = flags[items].astype('category')   \n",
    "\n",
    "print(\"Here are the newly transformed variable data types:\")\n",
    "print(flags.dtypes)"
   ]
  },
  {
   "cell_type": "markdown",
   "metadata": {},
   "source": [
    "Let's check to see if our data types are correct and then output the first 10 instances of our data set to make sure we converted the categorical data to their integer counterparts"
   ]
  },
  {
   "cell_type": "code",
   "execution_count": 6,
   "metadata": {
    "collapsed": false
   },
   "outputs": [
    {
     "data": {
      "text/html": [
       "<div>\n",
       "<table border=\"1\" class=\"dataframe\">\n",
       "  <thead>\n",
       "    <tr style=\"text-align: right;\">\n",
       "      <th></th>\n",
       "      <th>landmass</th>\n",
       "      <th>zone</th>\n",
       "      <th>area</th>\n",
       "      <th>population</th>\n",
       "      <th>language</th>\n",
       "      <th>religion</th>\n",
       "      <th>bars</th>\n",
       "      <th>stripes</th>\n",
       "      <th>colours</th>\n",
       "      <th>red</th>\n",
       "      <th>green</th>\n",
       "      <th>blue</th>\n",
       "      <th>gold</th>\n",
       "      <th>white</th>\n",
       "      <th>black</th>\n",
       "      <th>orange</th>\n",
       "      <th>mainhue</th>\n",
       "      <th>circles</th>\n",
       "      <th>crosses</th>\n",
       "      <th>saltires</th>\n",
       "      <th>quarters</th>\n",
       "      <th>sunstars</th>\n",
       "      <th>crescent</th>\n",
       "      <th>triangle</th>\n",
       "      <th>icon</th>\n",
       "      <th>animate</th>\n",
       "      <th>text</th>\n",
       "      <th>topleft</th>\n",
       "      <th>botright</th>\n",
       "    </tr>\n",
       "    <tr>\n",
       "      <th>name</th>\n",
       "      <th></th>\n",
       "      <th></th>\n",
       "      <th></th>\n",
       "      <th></th>\n",
       "      <th></th>\n",
       "      <th></th>\n",
       "      <th></th>\n",
       "      <th></th>\n",
       "      <th></th>\n",
       "      <th></th>\n",
       "      <th></th>\n",
       "      <th></th>\n",
       "      <th></th>\n",
       "      <th></th>\n",
       "      <th></th>\n",
       "      <th></th>\n",
       "      <th></th>\n",
       "      <th></th>\n",
       "      <th></th>\n",
       "      <th></th>\n",
       "      <th></th>\n",
       "      <th></th>\n",
       "      <th></th>\n",
       "      <th></th>\n",
       "      <th></th>\n",
       "      <th></th>\n",
       "      <th></th>\n",
       "      <th></th>\n",
       "      <th></th>\n",
       "    </tr>\n",
       "  </thead>\n",
       "  <tbody>\n",
       "    <tr>\n",
       "      <th>Afghanistan</th>\n",
       "      <td>4</td>\n",
       "      <td>0</td>\n",
       "      <td>648</td>\n",
       "      <td>16</td>\n",
       "      <td>9</td>\n",
       "      <td>2</td>\n",
       "      <td>0</td>\n",
       "      <td>3</td>\n",
       "      <td>5</td>\n",
       "      <td>1</td>\n",
       "      <td>1</td>\n",
       "      <td>0</td>\n",
       "      <td>1</td>\n",
       "      <td>1</td>\n",
       "      <td>1</td>\n",
       "      <td>0</td>\n",
       "      <td>4</td>\n",
       "      <td>0</td>\n",
       "      <td>0</td>\n",
       "      <td>0</td>\n",
       "      <td>0</td>\n",
       "      <td>1</td>\n",
       "      <td>0</td>\n",
       "      <td>0</td>\n",
       "      <td>1</td>\n",
       "      <td>0</td>\n",
       "      <td>0</td>\n",
       "      <td>0</td>\n",
       "      <td>4</td>\n",
       "    </tr>\n",
       "    <tr>\n",
       "      <th>Albania</th>\n",
       "      <td>2</td>\n",
       "      <td>0</td>\n",
       "      <td>29</td>\n",
       "      <td>3</td>\n",
       "      <td>5</td>\n",
       "      <td>6</td>\n",
       "      <td>0</td>\n",
       "      <td>0</td>\n",
       "      <td>3</td>\n",
       "      <td>1</td>\n",
       "      <td>0</td>\n",
       "      <td>0</td>\n",
       "      <td>1</td>\n",
       "      <td>0</td>\n",
       "      <td>1</td>\n",
       "      <td>0</td>\n",
       "      <td>6</td>\n",
       "      <td>0</td>\n",
       "      <td>0</td>\n",
       "      <td>0</td>\n",
       "      <td>0</td>\n",
       "      <td>1</td>\n",
       "      <td>0</td>\n",
       "      <td>0</td>\n",
       "      <td>0</td>\n",
       "      <td>1</td>\n",
       "      <td>0</td>\n",
       "      <td>5</td>\n",
       "      <td>6</td>\n",
       "    </tr>\n",
       "    <tr>\n",
       "      <th>Algeria</th>\n",
       "      <td>3</td>\n",
       "      <td>0</td>\n",
       "      <td>2388</td>\n",
       "      <td>20</td>\n",
       "      <td>7</td>\n",
       "      <td>2</td>\n",
       "      <td>2</td>\n",
       "      <td>0</td>\n",
       "      <td>3</td>\n",
       "      <td>1</td>\n",
       "      <td>1</td>\n",
       "      <td>0</td>\n",
       "      <td>0</td>\n",
       "      <td>1</td>\n",
       "      <td>0</td>\n",
       "      <td>0</td>\n",
       "      <td>4</td>\n",
       "      <td>0</td>\n",
       "      <td>0</td>\n",
       "      <td>0</td>\n",
       "      <td>0</td>\n",
       "      <td>1</td>\n",
       "      <td>1</td>\n",
       "      <td>0</td>\n",
       "      <td>0</td>\n",
       "      <td>0</td>\n",
       "      <td>0</td>\n",
       "      <td>3</td>\n",
       "      <td>7</td>\n",
       "    </tr>\n",
       "    <tr>\n",
       "      <th>American-Samoa</th>\n",
       "      <td>5</td>\n",
       "      <td>2</td>\n",
       "      <td>0</td>\n",
       "      <td>0</td>\n",
       "      <td>0</td>\n",
       "      <td>1</td>\n",
       "      <td>0</td>\n",
       "      <td>0</td>\n",
       "      <td>5</td>\n",
       "      <td>1</td>\n",
       "      <td>0</td>\n",
       "      <td>1</td>\n",
       "      <td>1</td>\n",
       "      <td>1</td>\n",
       "      <td>0</td>\n",
       "      <td>1</td>\n",
       "      <td>1</td>\n",
       "      <td>0</td>\n",
       "      <td>0</td>\n",
       "      <td>0</td>\n",
       "      <td>0</td>\n",
       "      <td>0</td>\n",
       "      <td>0</td>\n",
       "      <td>1</td>\n",
       "      <td>1</td>\n",
       "      <td>1</td>\n",
       "      <td>0</td>\n",
       "      <td>1</td>\n",
       "      <td>6</td>\n",
       "    </tr>\n",
       "    <tr>\n",
       "      <th>Andorra</th>\n",
       "      <td>2</td>\n",
       "      <td>0</td>\n",
       "      <td>0</td>\n",
       "      <td>0</td>\n",
       "      <td>5</td>\n",
       "      <td>0</td>\n",
       "      <td>3</td>\n",
       "      <td>0</td>\n",
       "      <td>3</td>\n",
       "      <td>1</td>\n",
       "      <td>0</td>\n",
       "      <td>1</td>\n",
       "      <td>1</td>\n",
       "      <td>0</td>\n",
       "      <td>0</td>\n",
       "      <td>0</td>\n",
       "      <td>3</td>\n",
       "      <td>0</td>\n",
       "      <td>0</td>\n",
       "      <td>0</td>\n",
       "      <td>0</td>\n",
       "      <td>0</td>\n",
       "      <td>0</td>\n",
       "      <td>0</td>\n",
       "      <td>0</td>\n",
       "      <td>0</td>\n",
       "      <td>0</td>\n",
       "      <td>1</td>\n",
       "      <td>6</td>\n",
       "    </tr>\n",
       "    <tr>\n",
       "      <th>Angola</th>\n",
       "      <td>3</td>\n",
       "      <td>1</td>\n",
       "      <td>1247</td>\n",
       "      <td>7</td>\n",
       "      <td>9</td>\n",
       "      <td>5</td>\n",
       "      <td>0</td>\n",
       "      <td>2</td>\n",
       "      <td>3</td>\n",
       "      <td>1</td>\n",
       "      <td>0</td>\n",
       "      <td>0</td>\n",
       "      <td>1</td>\n",
       "      <td>0</td>\n",
       "      <td>1</td>\n",
       "      <td>0</td>\n",
       "      <td>6</td>\n",
       "      <td>0</td>\n",
       "      <td>0</td>\n",
       "      <td>0</td>\n",
       "      <td>0</td>\n",
       "      <td>1</td>\n",
       "      <td>0</td>\n",
       "      <td>0</td>\n",
       "      <td>1</td>\n",
       "      <td>0</td>\n",
       "      <td>0</td>\n",
       "      <td>5</td>\n",
       "      <td>0</td>\n",
       "    </tr>\n",
       "    <tr>\n",
       "      <th>Anguilla</th>\n",
       "      <td>0</td>\n",
       "      <td>3</td>\n",
       "      <td>0</td>\n",
       "      <td>0</td>\n",
       "      <td>0</td>\n",
       "      <td>1</td>\n",
       "      <td>0</td>\n",
       "      <td>1</td>\n",
       "      <td>3</td>\n",
       "      <td>0</td>\n",
       "      <td>0</td>\n",
       "      <td>1</td>\n",
       "      <td>0</td>\n",
       "      <td>1</td>\n",
       "      <td>0</td>\n",
       "      <td>1</td>\n",
       "      <td>7</td>\n",
       "      <td>0</td>\n",
       "      <td>0</td>\n",
       "      <td>0</td>\n",
       "      <td>0</td>\n",
       "      <td>0</td>\n",
       "      <td>0</td>\n",
       "      <td>0</td>\n",
       "      <td>0</td>\n",
       "      <td>1</td>\n",
       "      <td>0</td>\n",
       "      <td>6</td>\n",
       "      <td>1</td>\n",
       "    </tr>\n",
       "    <tr>\n",
       "      <th>Antigua-Barbuda</th>\n",
       "      <td>0</td>\n",
       "      <td>3</td>\n",
       "      <td>0</td>\n",
       "      <td>0</td>\n",
       "      <td>0</td>\n",
       "      <td>1</td>\n",
       "      <td>0</td>\n",
       "      <td>1</td>\n",
       "      <td>5</td>\n",
       "      <td>1</td>\n",
       "      <td>0</td>\n",
       "      <td>1</td>\n",
       "      <td>1</td>\n",
       "      <td>1</td>\n",
       "      <td>1</td>\n",
       "      <td>0</td>\n",
       "      <td>6</td>\n",
       "      <td>0</td>\n",
       "      <td>0</td>\n",
       "      <td>0</td>\n",
       "      <td>0</td>\n",
       "      <td>1</td>\n",
       "      <td>0</td>\n",
       "      <td>1</td>\n",
       "      <td>0</td>\n",
       "      <td>0</td>\n",
       "      <td>0</td>\n",
       "      <td>0</td>\n",
       "      <td>6</td>\n",
       "    </tr>\n",
       "    <tr>\n",
       "      <th>Argentina</th>\n",
       "      <td>1</td>\n",
       "      <td>2</td>\n",
       "      <td>2777</td>\n",
       "      <td>28</td>\n",
       "      <td>1</td>\n",
       "      <td>0</td>\n",
       "      <td>0</td>\n",
       "      <td>3</td>\n",
       "      <td>2</td>\n",
       "      <td>0</td>\n",
       "      <td>0</td>\n",
       "      <td>1</td>\n",
       "      <td>0</td>\n",
       "      <td>1</td>\n",
       "      <td>0</td>\n",
       "      <td>0</td>\n",
       "      <td>1</td>\n",
       "      <td>0</td>\n",
       "      <td>0</td>\n",
       "      <td>0</td>\n",
       "      <td>0</td>\n",
       "      <td>0</td>\n",
       "      <td>0</td>\n",
       "      <td>0</td>\n",
       "      <td>0</td>\n",
       "      <td>0</td>\n",
       "      <td>0</td>\n",
       "      <td>1</td>\n",
       "      <td>1</td>\n",
       "    </tr>\n",
       "    <tr>\n",
       "      <th>Argentine</th>\n",
       "      <td>1</td>\n",
       "      <td>2</td>\n",
       "      <td>2777</td>\n",
       "      <td>28</td>\n",
       "      <td>1</td>\n",
       "      <td>0</td>\n",
       "      <td>0</td>\n",
       "      <td>3</td>\n",
       "      <td>3</td>\n",
       "      <td>0</td>\n",
       "      <td>0</td>\n",
       "      <td>1</td>\n",
       "      <td>1</td>\n",
       "      <td>1</td>\n",
       "      <td>0</td>\n",
       "      <td>0</td>\n",
       "      <td>1</td>\n",
       "      <td>0</td>\n",
       "      <td>0</td>\n",
       "      <td>0</td>\n",
       "      <td>0</td>\n",
       "      <td>1</td>\n",
       "      <td>0</td>\n",
       "      <td>0</td>\n",
       "      <td>0</td>\n",
       "      <td>0</td>\n",
       "      <td>0</td>\n",
       "      <td>1</td>\n",
       "      <td>1</td>\n",
       "    </tr>\n",
       "  </tbody>\n",
       "</table>\n",
       "</div>"
      ],
      "text/plain": [
       "                landmass zone  area  population language religion  bars  \\\n",
       "name                                                                      \n",
       "Afghanistan            4    0   648          16        9        2     0   \n",
       "Albania                2    0    29           3        5        6     0   \n",
       "Algeria                3    0  2388          20        7        2     2   \n",
       "American-Samoa         5    2     0           0        0        1     0   \n",
       "Andorra                2    0     0           0        5        0     3   \n",
       "Angola                 3    1  1247           7        9        5     0   \n",
       "Anguilla               0    3     0           0        0        1     0   \n",
       "Antigua-Barbuda        0    3     0           0        0        1     0   \n",
       "Argentina              1    2  2777          28        1        0     0   \n",
       "Argentine              1    2  2777          28        1        0     0   \n",
       "\n",
       "                 stripes  colours red green blue gold white black orange  \\\n",
       "name                                                                       \n",
       "Afghanistan            3        5   1     1    0    1     1     1      0   \n",
       "Albania                0        3   1     0    0    1     0     1      0   \n",
       "Algeria                0        3   1     1    0    0     1     0      0   \n",
       "American-Samoa         0        5   1     0    1    1     1     0      1   \n",
       "Andorra                0        3   1     0    1    1     0     0      0   \n",
       "Angola                 2        3   1     0    0    1     0     1      0   \n",
       "Anguilla               1        3   0     0    1    0     1     0      1   \n",
       "Antigua-Barbuda        1        5   1     0    1    1     1     1      0   \n",
       "Argentina              3        2   0     0    1    0     1     0      0   \n",
       "Argentine              3        3   0     0    1    1     1     0      0   \n",
       "\n",
       "                mainhue  circles  crosses  saltires  quarters  sunstars  \\\n",
       "name                                                                      \n",
       "Afghanistan           4        0        0         0         0         1   \n",
       "Albania               6        0        0         0         0         1   \n",
       "Algeria               4        0        0         0         0         1   \n",
       "American-Samoa        1        0        0         0         0         0   \n",
       "Andorra               3        0        0         0         0         0   \n",
       "Angola                6        0        0         0         0         1   \n",
       "Anguilla              7        0        0         0         0         0   \n",
       "Antigua-Barbuda       6        0        0         0         0         1   \n",
       "Argentina             1        0        0         0         0         0   \n",
       "Argentine             1        0        0         0         0         1   \n",
       "\n",
       "                crescent triangle icon animate text topleft botright  \n",
       "name                                                                  \n",
       "Afghanistan            0        0    1       0    0       0        4  \n",
       "Albania                0        0    0       1    0       5        6  \n",
       "Algeria                1        0    0       0    0       3        7  \n",
       "American-Samoa         0        1    1       1    0       1        6  \n",
       "Andorra                0        0    0       0    0       1        6  \n",
       "Angola                 0        0    1       0    0       5        0  \n",
       "Anguilla               0        0    0       1    0       6        1  \n",
       "Antigua-Barbuda        0        1    0       0    0       0        6  \n",
       "Argentina              0        0    0       0    0       1        1  \n",
       "Argentine              0        0    0       0    0       1        1  "
      ]
     },
     "execution_count": 6,
     "metadata": {},
     "output_type": "execute_result"
    }
   ],
   "source": [
    "flags.head(10)"
   ]
  },
  {
   "cell_type": "markdown",
   "metadata": {},
   "source": [
    "## 3. Exploratoray Analysis\n",
    "We can do some quick Exploratory analysis to give us a better picture of our data set. The first thing we should examine would be the column **religion**. So I decided to create a bar graph showing showing the different religions associated with the 129 countries."
   ]
  },
  {
   "cell_type": "code",
   "execution_count": 7,
   "metadata": {
    "collapsed": false
   },
   "outputs": [
    {
     "name": "stdout",
     "output_type": "stream",
     "text": [
      "The Catholic religion can be found in 40 countries\n",
      "The Other Christian religion can be found in 60 countries\n",
      "The Muslim religion can be found in 36 countries\n",
      "The Buddhist religion can be found in 8 countries\n",
      "The Hindu religion can be found in 4 countries\n",
      "The Ethnic religion can be found in 27 countries\n",
      "The Marxist religion can be found in 15 countries\n"
     ]
    }
   ],
   "source": [
    "religionNames = ['Catholic', 'Other Christian', 'Muslim', 'Buddhist', 'Hindu', 'Ethnic', 'Marxist', 'Others']\n",
    "\n",
    "for x in range(7):\n",
    "   i = x\n",
    "   x = flags.loc[:, 'religion'] == x\n",
    "   print('The %s religion can be found in %d countries' % (religionNames[i], len(flags[x].index)))"
   ]
  },
  {
   "cell_type": "code",
   "execution_count": 8,
   "metadata": {
    "collapsed": false
   },
   "outputs": [
    {
     "data": {
      "image/png": "[encoded data removed]",
      "text/plain": [
       "<matplotlib.figure.Figure at 0x7fd597473cc0>"
      ]
     },
     "metadata": {},
     "output_type": "display_data"
    }
   ],
   "source": [
    "labels = ['Other Christian', 'Catholic', 'Muslim', 'Ethnic', 'Marxist', 'Buddhist', 'Others', 'Hindu']\n",
    "\n",
    "ax = flags.religion.value_counts().plot(kind='bar', \n",
    "                                        color= ['#48D1CC'] ,edgecolor=['#FF6AD5'])\n",
    "plt.title(\"Count for amount of Religion\")\n",
    "ax.set_axis_bgcolor('#fafafa') # Set the backgroudn to a different color\n",
    "plt.xlabel(\"Religion\")\n",
    "plt.ylabel(\"Count\")\n",
    "ax.set_xticklabels(labels)\n",
    "plt.show()"
   ]
  },
  {
   "cell_type": "code",
   "execution_count": 9,
   "metadata": {
    "collapsed": false
   },
   "outputs": [
    {
     "data": {
      "image/png": "[encoded data removed]",
      "text/plain": [
       "<matplotlib.figure.Figure at 0x7fd594697128>"
      ]
     },
     "metadata": {},
     "output_type": "display_data"
    }
   ],
   "source": [
    "labels = ['Africa', 'Asia', 'Europe', 'North America', 'Oceania', 'South America']\n",
    "\n",
    "ax = flags.landmass.value_counts().plot(kind='bar', \n",
    "                                        color= ['#48D1CC'] ,edgecolor=['#FF6AD5'])\n",
    "plt.title(\"Count for amount of countries per large land area shit\")\n",
    "ax.set_axis_bgcolor('#fafafa') # Set the backgroudn to a different color\n",
    "plt.xlabel(\"Continent\")\n",
    "plt.ylabel(\"Count\")\n",
    "ax.set_xticklabels(labels)\n",
    "plt.show()"
   ]
  },
  {
   "cell_type": "markdown",
   "metadata": {},
   "source": [
    "Here we create a scatter plot where we use `area` as the x-axis and `population` as our y-axis. I will develop this more for now I just wanted to get aquianted with scatter plots in **Python**"
   ]
  },
  {
   "cell_type": "code",
   "execution_count": 10,
   "metadata": {
    "collapsed": false
   },
   "outputs": [
    {
     "data": {
      "image/png": "[encoded data removed]",
      "text/plain": [
       "<matplotlib.figure.Figure at 0x7fd596bc4a20>"
      ]
     },
     "metadata": {},
     "output_type": "display_data"
    }
   ],
   "source": [
    "ax = flags.plot.scatter(x = 'area', y = 'population', s = flags['sunstars']*50)\n",
    "ax.set_axis_bgcolor('#fafafa') # Set the backgroudn to a different color\n",
    "plt.show()"
   ]
  },
  {
   "cell_type": "markdown",
   "metadata": {},
   "source": [
    "## 4. Model Selection\n",
    "First we create our **Training** and **Test Sets** and being with **Kth Nearest Neighbor**"
   ]
  },
  {
   "cell_type": "code",
   "execution_count": 11,
   "metadata": {
    "collapsed": false
   },
   "outputs": [],
   "source": [
    "train, test = train_test_split(flags, test_size = 0.20, random_state = 42)\n",
    "\n",
    "train_set = train.ix[:, train.columns != 'religion']\n",
    "class_set = train.ix[:, train.columns == 'religion']\n",
    "\n",
    "test_set = test.ix[:, test.columns != 'religion']\n",
    "test_class_set = test.ix[:, test.columns == 'religion']"
   ]
  },
  {
   "cell_type": "code",
   "execution_count": 12,
   "metadata": {
    "collapsed": false
   },
   "outputs": [
    {
     "data": {
      "text/plain": [
       "KNeighborsClassifier(algorithm='auto', leaf_size=30, metric='minkowski',\n",
       "           metric_params=None, n_jobs=1, n_neighbors=5, p=2,\n",
       "           weights='uniform')"
      ]
     },
     "execution_count": 12,
     "metadata": {},
     "output_type": "execute_result"
    }
   ],
   "source": [
    "kNN = KNeighborsClassifier()\n",
    "\n",
    "kNN.fit(train_set, class_set['religion'])"
   ]
  },
  {
   "cell_type": "code",
   "execution_count": 13,
   "metadata": {
    "collapsed": false
   },
   "outputs": [
    {
     "name": "stdout",
     "output_type": "stream",
     "text": [
      "religion   0   1   2  3  4   5  6  7\n",
      "row_0                               \n",
      "0         25   4   4  3  1   3  2  2\n",
      "1          3  36   3  1  0   3  1  0\n",
      "2          5   2  23  3  1   5  0  0\n",
      "5          2   2   1  0  0  10  2  1\n",
      "6          0   0   1  0  0   0  5  1\n",
      "Here is our accuracy for our training set:\n",
      "0.638709677419\n"
     ]
    }
   ],
   "source": [
    "predictionsTrain = kNN.predict(train_set)\n",
    "\n",
    "print(pd.crosstab(predictionsTrain, class_set['religion']))\n",
    "\n",
    "accuracyTrain = kNN.score(train_set, class_set['religion'])\n",
    "\n",
    "print(\"Here is our accuracy for our training set:\")\n",
    "print(accuracyTrain)"
   ]
  },
  {
   "cell_type": "markdown",
   "metadata": {},
   "source": [
    "One important thing to notice is that the model failed to consider `religion 7` ('Others') because there was a total of 4 instances of this type of religion (shown below). So right off the bat we can tell this model will suffer from predicting accurately because of this. \n",
    "\n",
    "Which will be indicative that this model is **not** the best to use in our analysis. I often use **Kth Nearest Neighbor** as a starting point when doing **machine learning** then build from there."
   ]
  },
  {
   "cell_type": "code",
   "execution_count": 14,
   "metadata": {
    "collapsed": false
   },
   "outputs": [
    {
     "data": {
      "text/html": [
       "<div>\n",
       "<table border=\"1\" class=\"dataframe\">\n",
       "  <thead>\n",
       "    <tr style=\"text-align: right;\">\n",
       "      <th></th>\n",
       "      <th>religion</th>\n",
       "    </tr>\n",
       "    <tr>\n",
       "      <th>name</th>\n",
       "      <th></th>\n",
       "    </tr>\n",
       "  </thead>\n",
       "  <tbody>\n",
       "    <tr>\n",
       "      <th>Japan</th>\n",
       "      <td>7</td>\n",
       "    </tr>\n",
       "    <tr>\n",
       "      <th>South-Korea</th>\n",
       "      <td>7</td>\n",
       "    </tr>\n",
       "    <tr>\n",
       "      <th>Israel</th>\n",
       "      <td>7</td>\n",
       "    </tr>\n",
       "    <tr>\n",
       "      <th>Togo</th>\n",
       "      <td>7</td>\n",
       "    </tr>\n",
       "  </tbody>\n",
       "</table>\n",
       "</div>"
      ],
      "text/plain": [
       "            religion\n",
       "name                \n",
       "Japan              7\n",
       "South-Korea        7\n",
       "Israel             7\n",
       "Togo               7"
      ]
     },
     "execution_count": 14,
     "metadata": {},
     "output_type": "execute_result"
    }
   ],
   "source": [
    "# Here we output the number of instances we had 'Others' which is very small \n",
    "seven = class_set[class_set['religion'] == 7]\n",
    "seven"
   ]
  },
  {
   "cell_type": "code",
   "execution_count": 15,
   "metadata": {
    "collapsed": false
   },
   "outputs": [
    {
     "name": "stdout",
     "output_type": "stream",
     "text": [
      "The train error rate for our model is:\n",
      "0.36129\n"
     ]
    }
   ],
   "source": [
    "print(\"The train error rate for our model is:\")\n",
    "train_error_rate = 1 - accuracyTrain  \n",
    "print('%.5f' % train_error_rate)"
   ]
  },
  {
   "cell_type": "markdown",
   "metadata": {},
   "source": [
    "## Test Errror Rate\n",
    "Siginificantly more important than our **Training Error Rate** our **Test Error Rate** gives us a better criteria as to how our model does. Simply because it uses data it hasn't seen yet, since our **Training Set** might perform well due to **Over-fitting**."
   ]
  },
  {
   "cell_type": "code",
   "execution_count": 16,
   "metadata": {
    "collapsed": false
   },
   "outputs": [
    {
     "name": "stdout",
     "output_type": "stream",
     "text": [
      "Here is our accuracy for our training set:\n",
      "0.333\n"
     ]
    }
   ],
   "source": [
    "predictions = kNN.predict(test_set)\n",
    "\n",
    "accuracy = kNN.score(test_set, test_class_set['religion'])\n",
    "\n",
    "print(\"Here is our accuracy for our training set:\")\n",
    "print('%.3f' % accuracy)"
   ]
  },
  {
   "cell_type": "code",
   "execution_count": 17,
   "metadata": {
    "collapsed": false
   },
   "outputs": [
    {
     "name": "stdout",
     "output_type": "stream",
     "text": [
      "Table comparing actual vs. predicted values for our test set:\n",
      "religion  0  1  2  3  4  5  6  7\n",
      "row_0                           \n",
      "0         2  4  0  0  1  1  1  0\n",
      "1         0  7  0  1  0  0  1  0\n",
      "2         2  3  1  0  1  3  1  0\n",
      "5         1  1  3  0  0  2  1  0\n",
      "6         0  1  0  0  0  0  1  0\n"
     ]
    }
   ],
   "source": [
    "print(\"Table comparing actual vs. predicted values for our test set:\")\n",
    "print(pd.crosstab(predictions, test_class_set['religion']))"
   ]
  },
  {
   "cell_type": "code",
   "execution_count": 18,
   "metadata": {
    "collapsed": false
   },
   "outputs": [
    {
     "name": "stdout",
     "output_type": "stream",
     "text": [
      "The test error rate for our model is:\n",
      "0.67\n"
     ]
    }
   ],
   "source": [
    "# Here we calculate the test error rate!\n",
    "print(\"The test error rate for our model is:\")\n",
    "test_error_rate = 1 - accuracy\n",
    "print('%.2f' % test_error_rate)"
   ]
  },
  {
   "cell_type": "markdown",
   "metadata": {},
   "source": [
    "Performed very poorly, which was expected. I always start with a simple algorithm (although sometimes it might perform better than more complicated models), then evolve to more complicated models and use the simpler model as a justification to use other models. Let's move on to decision trees!\n",
    "\n",
    "## Decision Trees"
   ]
  },
  {
   "cell_type": "code",
   "execution_count": 19,
   "metadata": {
    "collapsed": false
   },
   "outputs": [],
   "source": [
    "dt = DecisionTreeClassifier(random_state = 42)\n",
    "fit = dt.fit(train_set, class_set)"
   ]
  },
  {
   "cell_type": "code",
   "execution_count": 20,
   "metadata": {
    "collapsed": false
   },
   "outputs": [
    {
     "data": {
      "text/plain": [
       "DecisionTreeClassifier(class_weight=None, criterion='gini', max_depth=None,\n",
       "            max_features=None, max_leaf_nodes=None,\n",
       "            min_impurity_split=1e-07, min_samples_leaf=1,\n",
       "            min_samples_split=2, min_weight_fraction_leaf=0.0,\n",
       "            presort=False, random_state=42, splitter='best')"
      ]
     },
     "execution_count": 20,
     "metadata": {},
     "output_type": "execute_result"
    }
   ],
   "source": [
    "fit"
   ]
  },
  {
   "cell_type": "markdown",
   "metadata": {},
   "source": [
    "Let's plot the decision tree. So the work around was create a `dot` file then convert using an online graphviz to `png` because fuck downloading that shit. (source: https://github.com/dreampuf/GraphvizOnline)"
   ]
  },
  {
   "cell_type": "code",
   "execution_count": 24,
   "metadata": {
    "collapsed": false
   },
   "outputs": [],
   "source": [
    "with open('flags.dot', 'w') as f:\n",
    "    f = export_graphviz(fit, out_file = f)"
   ]
  },
  {
   "cell_type": "markdown",
   "metadata": {},
   "source": [
    "<img src='images/index.png'>"
   ]
  },
  {
   "cell_type": "markdown",
   "metadata": {},
   "source": [
    "Next we measure the importance of the feature (variable) using a for loop inspired by: (http://scikit-learn.org/stable/auto_examples/ensemble/plot_forest_importances.html)\n",
    "\n",
    "Here the higher the value the more importance the variable had when creating our model. So we can see that **Language** and **Landmass** had the most influence on our model. Which is something that is intuitive. Explain more here later..."
   ]
  },
  {
   "cell_type": "code",
   "execution_count": 27,
   "metadata": {
    "collapsed": false
   },
   "outputs": [
    {
     "name": "stdout",
     "output_type": "stream",
     "text": [
      "['landmass', 'zone', 'area', 'population', 'language', 'bars', 'stripes', 'colours', 'red', 'green', 'blue', 'gold', 'white', 'black', 'orange', 'mainhue', 'circles', 'crosses', 'saltires', 'quarters', 'sunstars', 'crescent', 'triangle', 'icon', 'animate', 'text', 'topleft', 'botright']\n",
      "Feature ranking:\n",
      "1. The feature 'language' has a Gini Importance of 0.256386\n",
      "2. The feature 'landmass' has a Gini Importance of 0.200495\n",
      "3. The feature 'mainhue' has a Gini Importance of 0.081864\n",
      "4. The feature 'zone' has a Gini Importance of 0.059129\n",
      "5. The feature 'population' has a Gini Importance of 0.054110\n",
      "6. The feature 'circles' has a Gini Importance of 0.040292\n",
      "7. The feature 'topleft' has a Gini Importance of 0.032241\n",
      "8. The feature 'bars' has a Gini Importance of 0.028925\n",
      "9. The feature 'blue' has a Gini Importance of 0.027789\n",
      "10. The feature 'black' has a Gini Importance of 0.027495\n",
      "11. The feature 'gold' has a Gini Importance of 0.027066\n",
      "12. The feature 'area' has a Gini Importance of 0.026062\n",
      "13. The feature 'stripes' has a Gini Importance of 0.023648\n",
      "14. The feature 'crosses' has a Gini Importance of 0.021072\n",
      "15. The feature 'triangle' has a Gini Importance of 0.017032\n",
      "16. The feature 'red' has a Gini Importance of 0.014329\n",
      "17. The feature 'animate' has a Gini Importance of 0.012897\n",
      "18. The feature 'text' has a Gini Importance of 0.012897\n",
      "19. The feature 'white' has a Gini Importance of 0.012090\n",
      "20. The feature 'orange' has a Gini Importance of 0.008060\n",
      "21. The feature 'quarters' has a Gini Importance of 0.008060\n",
      "22. The feature 'botright' has a Gini Importance of 0.008060\n",
      "23. The feature 'crescent' has a Gini Importance of 0.000000\n",
      "24. The feature 'green' has a Gini Importance of 0.000000\n",
      "25. The feature 'saltires' has a Gini Importance of 0.000000\n",
      "26. The feature 'colours' has a Gini Importance of 0.000000\n",
      "27. The feature 'sunstars' has a Gini Importance of 0.000000\n",
      "28. The feature 'icon' has a Gini Importance of 0.000000\n"
     ]
    }
   ],
   "source": [
    "importances = fit.feature_importances_\n",
    "indices = np.argsort(importances)[::-1]\n",
    "\n",
    "# Remove 'name' and 'religion' since we used it as the index for our data set\n",
    "namesInd = names[1:]\n",
    "# NEED TO FIND MORE EFFICIENT WAY OF DELETING THESE TWO VARIABLES FROM THE LIST\n",
    "del namesInd[5]\n",
    "print(namesInd)\n",
    "\n",
    "# Print the feature ranking\n",
    "print(\"Feature ranking:\")\n",
    "\n",
    "for f in range(28):\n",
    "    i = f\n",
    "    print(\"%d. The feature '%s' has a Gini Importance of %f\" % (f + 1, namesInd[indices[i]], importances[indices[f]]))"
   ]
  },
  {
   "cell_type": "markdown",
   "metadata": {},
   "source": [
    "Did another for loop to make sure they were the same!"
   ]
  },
  {
   "cell_type": "code",
   "execution_count": 28,
   "metadata": {
    "collapsed": false
   },
   "outputs": [
    {
     "name": "stdout",
     "output_type": "stream",
     "text": [
      "language\n",
      "landmass\n",
      "mainhue\n",
      "zone\n",
      "population\n",
      "circles\n",
      "topleft\n",
      "bars\n",
      "blue\n",
      "black\n",
      "gold\n",
      "area\n",
      "stripes\n",
      "crosses\n",
      "triangle\n",
      "red\n",
      "animate\n",
      "text\n",
      "white\n",
      "orange\n",
      "quarters\n",
      "botright\n",
      "crescent\n",
      "green\n",
      "saltires\n",
      "colours\n",
      "sunstars\n",
      "icon\n"
     ]
    }
   ],
   "source": [
    "for f in range(28):\n",
    "    print(namesInd[indices[f]])"
   ]
  },
  {
   "cell_type": "code",
   "execution_count": 22,
   "metadata": {
    "collapsed": false
   },
   "outputs": [
    {
     "name": "stdout",
     "output_type": "stream",
     "text": [
      "Here is our mean accuracy on the test set:\n",
      "0.51\n"
     ]
    }
   ],
   "source": [
    "accuracy_dt = fit.score(test_set, test_class_set['religion'])\n",
    "\n",
    "print(\"Here is our mean accuracy on the test set:\")\n",
    "print('%.2f' % accuracy_dt)"
   ]
  },
  {
   "cell_type": "code",
   "execution_count": 21,
   "metadata": {
    "collapsed": false
   },
   "outputs": [
    {
     "name": "stdout",
     "output_type": "stream",
     "text": [
      "Table comparing actual vs. predicted values for our test set:\n",
      "religion  0   1  2  3  4  5  6  7\n",
      "row_0                            \n",
      "0         4   1  1  0  0  0  1  0\n",
      "1         1  11  1  0  1  3  0  0\n",
      "2         0   1  0  0  0  2  0  0\n",
      "5         0   3  2  0  1  1  0  0\n",
      "6         0   0  0  1  0  0  4  0\n"
     ]
    }
   ],
   "source": [
    "predictions_dt = fit.predict(test_set)\n",
    "\n",
    "print(\"Table comparing actual vs. predicted values for our test set:\")\n",
    "print(pd.crosstab(predictions_dt, test_class_set['religion']))"
   ]
  },
  {
   "cell_type": "code",
   "execution_count": 23,
   "metadata": {
    "collapsed": false
   },
   "outputs": [
    {
     "name": "stdout",
     "output_type": "stream",
     "text": [
      "The test error rate for our model is:\n",
      "0.49\n"
     ]
    }
   ],
   "source": [
    "# Here we calculate the test error rate!\n",
    "print(\"The test error rate for our model is:\")\n",
    "test_error_rate_dt = 1 - accuracy_dt\n",
    "print('%.2f' % test_error_rate_dt)"
   ]
  },
  {
   "cell_type": "markdown",
   "metadata": {},
   "source": [
    "Here we can see our **Decision Trees** did significantly better than our **KNN** model! It seems that the `Other religion` still isn't captured by our model which explains our rather still high **Test Error Rate**. So next is **Random Forest**...\n",
    "\n",
    "## To Be Continued..."
   ]
  }
 ],
 "metadata": {
  "anaconda-cloud": {},
  "kernelspec": {
   "display_name": "Python [conda env:puto]",
   "language": "python",
   "name": "conda-env-puto-py"
  },
  "language_info": {
   "codemirror_mode": {
    "name": "ipython",
    "version": 3
   },
   "file_extension": ".py",
   "mimetype": "text/x-python",
   "name": "python",
   "nbconvert_exporter": "python",
   "pygments_lexer": "ipython3",
   "version": "3.5.2"
  }
 },
 "nbformat": 4,
 "nbformat_minor": 1
}
